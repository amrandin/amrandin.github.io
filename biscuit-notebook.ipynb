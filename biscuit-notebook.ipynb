{
 "cells": [
  {
   "cell_type": "code",
   "execution_count": 1,
   "id": "5ccecf48",
   "metadata": {
    "_cell_guid": "b1076dfc-b9ad-4769-8c92-a6c4dae69d19",
    "_uuid": "8f2839f25d086af736a60e9eeb907d3b93b6e0e5",
    "execution": {
     "iopub.execute_input": "2021-12-25T00:23:46.879788Z",
     "iopub.status.busy": "2021-12-25T00:23:46.878262Z",
     "iopub.status.idle": "2021-12-25T00:23:46.889787Z",
     "shell.execute_reply": "2021-12-25T00:23:46.889279Z",
     "shell.execute_reply.started": "2021-12-25T00:09:32.784023Z"
    },
    "papermill": {
     "duration": 0.020127,
     "end_time": "2021-12-25T00:23:46.889913",
     "exception": false,
     "start_time": "2021-12-25T00:23:46.869786",
     "status": "completed"
    },
    "tags": []
   },
   "outputs": [],
   "source": [
    "# This Python 3 environment comes with many helpful analytics libraries installed\n",
    "# It is defined by the kaggle/python Docker image: https://github.com/kaggle/docker-python\n",
    "# For example, here's several helpful packages to load\n",
    "\n",
    "import numpy as np # linear algebra\n",
    "import pandas as pd # data processing, CSV file I/O (e.g. pd.read_csv)\n",
    "\n",
    "# Input data files are available in the read-only \"../input/\" directory\n",
    "# For example, running this (by clicking run or pressing Shift+Enter) will list all files under the input directory\n",
    "\n",
    "import os\n",
    "for dirname, _, filenames in os.walk('/kaggle/input'):\n",
    "    for filename in filenames:\n",
    "        print(os.path.join(dirname, filename))\n",
    "\n",
    "# You can write up to 20GB to the current directory (/kaggle/working/) that gets preserved as output when you create a version using \"Save & Run All\" \n",
    "# You can also write temporary files to /kaggle/temp/, but they won't be saved outside of the current session"
   ]
  },
  {
   "cell_type": "code",
   "execution_count": 2,
   "id": "789dce84",
   "metadata": {
    "execution": {
     "iopub.execute_input": "2021-12-25T00:23:46.902514Z",
     "iopub.status.busy": "2021-12-25T00:23:46.901840Z",
     "iopub.status.idle": "2021-12-25T00:23:50.958607Z",
     "shell.execute_reply": "2021-12-25T00:23:50.958074Z",
     "shell.execute_reply.started": "2021-12-25T00:12:25.705323Z"
    },
    "papermill": {
     "duration": 4.063701,
     "end_time": "2021-12-25T00:23:50.958737",
     "exception": false,
     "start_time": "2021-12-25T00:23:46.895036",
     "status": "completed"
    },
    "tags": []
   },
   "outputs": [],
   "source": [
    "import tensorflow as tf\n"
   ]
  },
  {
   "cell_type": "code",
   "execution_count": 3,
   "id": "5dfbfff2",
   "metadata": {
    "execution": {
     "iopub.execute_input": "2021-12-25T00:23:50.969609Z",
     "iopub.status.busy": "2021-12-25T00:23:50.968871Z",
     "iopub.status.idle": "2021-12-25T00:23:50.972483Z",
     "shell.execute_reply": "2021-12-25T00:23:50.973108Z",
     "shell.execute_reply.started": "2021-12-25T00:12:59.730373Z"
    },
    "papermill": {
     "duration": 0.011229,
     "end_time": "2021-12-25T00:23:50.973299",
     "exception": false,
     "start_time": "2021-12-25T00:23:50.962070",
     "status": "completed"
    },
    "tags": []
   },
   "outputs": [
    {
     "name": "stdout",
     "output_type": "stream",
     "text": [
      "2.6.2\n"
     ]
    }
   ],
   "source": [
    "print(tf.__version__)"
   ]
  }
 ],
 "metadata": {
  "kernelspec": {
   "display_name": "Python 3",
   "language": "python",
   "name": "python3"
  },
  "language_info": {
   "codemirror_mode": {
    "name": "ipython",
    "version": 3
   },
   "file_extension": ".py",
   "mimetype": "text/x-python",
   "name": "python",
   "nbconvert_exporter": "python",
   "pygments_lexer": "ipython3",
   "version": "3.7.12"
  },
  "papermill": {
   "default_parameters": {},
   "duration": 15.286915,
   "end_time": "2021-12-25T00:23:54.095673",
   "environment_variables": {},
   "exception": null,
   "input_path": "__notebook__.ipynb",
   "output_path": "__notebook__.ipynb",
   "parameters": {},
   "start_time": "2021-12-25T00:23:38.808758",
   "version": "2.3.3"
  }
 },
 "nbformat": 4,
 "nbformat_minor": 5
}
